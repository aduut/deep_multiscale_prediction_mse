{
 "cells": [
  {
   "cell_type": "code",
   "execution_count": 2,
   "metadata": {},
   "outputs": [
    {
     "name": "stderr",
     "output_type": "stream",
     "text": [
      "Using TensorFlow backend.\n",
      "/Users/duutabib/anaconda3/lib/python3.6/importlib/_bootstrap.py:219: RuntimeWarning: compiletime version 3.5 of module 'tensorflow.python.framework.fast_tensor_util' does not match runtime version 3.6\n",
      "  return f(*args, **kwds)\n"
     ]
    }
   ],
   "source": [
    "from keras import models, Input,layers\n",
    "import numpy as np\n",
    "import matplotlib.pyplot\n"
   ]
  },
  {
   "cell_type": "markdown",
   "metadata": {},
   "source": [
    "![title](deep_mse_model_layout.png)"
   ]
  },
  {
   "cell_type": "markdown",
   "metadata": {},
   "source": [
    "![title](deep_mse_multiscale.png)"
   ]
  },
  {
   "cell_type": "markdown",
   "metadata": {},
   "source": [
    "![title](deep_mse_loss.png)"
   ]
  },
  {
   "cell_type": "markdown",
   "metadata": {},
   "source": [
    "![title](deep_mse_network_details.png)"
   ]
  },
  {
   "cell_type": "markdown",
   "metadata": {},
   "source": [
    "![title](training_model_details.png)"
   ]
  },
  {
   "cell_type": "markdown",
   "metadata": {},
   "source": [
    "Some Details from the author.\n",
    "\n",
    "G_1 has four convolution layers. The feature size in the table are for the hidden layer, the input and output feature maps have 3 channels: RGB. The four layers can be detailed as:\n",
    "\n",
    "1) input (3 channels: RGB) -> first hidden layer (128 channels); filter size 3x3\n",
    "2) first hidden layer (128 channels) -> second hidden layer (256 channels); filter size 3x3\n",
    "3) second hidden layer (256 channels) -> third hidden layer (128 channels); filter size 3x3\n",
    "4) third hidden layer (128 channels) -> output (3 channels: RGB); filter size 3x3\n"
   ]
  },
  {
   "cell_type": "code",
   "execution_count": 17,
   "metadata": {},
   "outputs": [
    {
     "name": "stdout",
     "output_type": "stream",
     "text": [
      "_________________________________________________________________\n",
      "Layer (type)                 Output Shape              Param #   \n",
      "=================================================================\n",
      "input_13 (InputLayer)        (None, 4, 4, 3)           0         \n",
      "_________________________________________________________________\n",
      "conv2d_22 (Conv2D)           (None, 4, 4, 128)         3584      \n",
      "_________________________________________________________________\n",
      "conv2d_23 (Conv2D)           (None, 4, 4, 256)         295168    \n",
      "_________________________________________________________________\n",
      "conv2d_24 (Conv2D)           (None, 4, 4, 128)         295040    \n",
      "_________________________________________________________________\n",
      "conv2d_25 (Conv2D)           (None, 4, 4, 3)           3459      \n",
      "=================================================================\n",
      "Total params: 597,251\n",
      "Trainable params: 597,251\n",
      "Non-trainable params: 0\n",
      "_________________________________________________________________\n"
     ]
    }
   ],
   "source": [
    "# code for generator model G_1\n",
    "latent_dim =0\n",
    "img_w=4\n",
    "img_h=4\n",
    "img_ch=3\n",
    "gen_input =Input(shape=(img_h,img_w, img_ch ))\n",
    "x =layers.Conv2D(128, 3, padding='same' , activation='relu')(gen_input)\n",
    "x =layers.Conv2D(256,3, padding='same',activation='relu')(x)\n",
    "x =layers.Conv2D(128,3, padding='same', activation ='relu')(x)\n",
    "x =layers.Conv2D(img_ch, 3, activation='tanh', padding='same')(x)\n",
    "\n",
    "gen_model =models.Model(gen_input, x)\n",
    "gen_model.summary()"
   ]
  },
  {
   "cell_type": "code",
   "execution_count": 20,
   "metadata": {},
   "outputs": [
    {
     "name": "stdout",
     "output_type": "stream",
     "text": [
      "_________________________________________________________________\n",
      "Layer (type)                 Output Shape              Param #   \n",
      "=================================================================\n",
      "input_16 (InputLayer)        (None, 4, 4, 3)           0         \n",
      "_________________________________________________________________\n",
      "conv2d_28 (Conv2D)           (None, 2, 2, 64)          1792      \n",
      "_________________________________________________________________\n",
      "flatten_4 (Flatten)          (None, 256)               0         \n",
      "_________________________________________________________________\n",
      "dense_3 (Dense)              (None, 512)               131584    \n",
      "_________________________________________________________________\n",
      "dense_4 (Dense)              (None, 256)               131328    \n",
      "=================================================================\n",
      "Total params: 264,704\n",
      "Trainable params: 264,704\n",
      "Non-trainable params: 0\n",
      "_________________________________________________________________\n"
     ]
    }
   ],
   "source": [
    "# discriminator model code for D_1 \n",
    "dis_input= layers.Input(shape=(img_h, img_w, img_ch))\n",
    "x = layers.Conv2D(64, (3,3), activation='relu' )(dis_input)\n",
    "x = layers.Flatten()(x)\n",
    "x = layers.Dense(512, activation ='relu')(x)\n",
    "x = layers.Dense(256, activation = 'tanh')(x)\n",
    "\n",
    "dis_model = models.Model(dis_input, x)\n",
    "dis_model.summary()"
   ]
  },
  {
   "cell_type": "code",
   "execution_count": null,
   "metadata": {
    "collapsed": true
   },
   "outputs": [],
   "source": [
    "#This another way I am thinking of building which ensures that the weights are seeded, and makes the model \n",
    "#"
   ]
  },
  {
   "cell_type": "code",
   "execution_count": null,
   "metadata": {
    "collapsed": true
   },
   "outputs": [],
   "source": [
    "#building the model gen is generative model, dis is the discriminative model.\n",
    "\n",
    "def dis_mod(input_shape, n, p,f, loss):  # function definition for discriminative network\n",
    "    n=6  #a power of  2 specify the number of hidden units for each layer\n",
    "    p=f =2; # filter size \n",
    "    input_shape =(img_width, img_height, img_channels)  # specifying input shape \n",
    "    dis_model=models.Sequential()  \n",
    "    dis_model.add(layers.Dense(Con2D(2**n, (p+1,f+1), input_shape=input_shape, activation='relu')))\n",
    "    dis_model.add(layers.MaxPooling2D((p,f)))\n",
    "    dis_model.add(layers.Flatten())\n",
    "    dis_model.add(layers.Dense(2**(n+f), activation='relu'))\n",
    "    dis_model.add(layers.Dense(2**(2*p+f), activation='tanh'))\n",
    "    dis_model.compile(loss=loss, metrics=['acc'], optimizer=optimizers.RMSprop(lr=2e-2))\n",
    "    return dis_model\n",
    "\n",
    "\n",
    "def gen_mod(input_shape, n , m, p, loss):\n",
    "    n=7  # a power of 2 specify # of hidden units for each layer\n",
    "    f=p=3; \n",
    "    input_shape=(image_width, img_height, img_channel)\n",
    "    gen_model=models.Sequential()\n",
    "    gen_model.add(layers.Con2D(2**n, (m,p ), input_shape=input_shape,activation='relu'), padding='same')\n",
    "    gen_model.add(layers.Con2D(2**(n+1), (m,p ), activation='relu'), padding='same')\n",
    "    gen_model.add(layers.Con2D(2**n, (m,p ), activation='relu'), padding='same')\n",
    "    gen_model.compile(optimizer=optimizers.RMSprop(), loss=loss, metrics=['acc'] )\n",
    "    return gen_model\n",
    "\n",
    "\n",
    "from __from__ import absolute_import\n",
    "from .losses import *\n",
    "import theano\n",
    "import theano.tensor as T\n",
    "\n",
    "\n",
    "def custom_loss(y, y_hat):\n",
    "a    \n",
    "\n",
    "\n",
    "    return\n"
   ]
  },
  {
   "cell_type": "markdown",
   "metadata": {
    "collapsed": true
   },
   "source": []
  }
 ],
 "metadata": {
  "kernelspec": {
   "display_name": "Python 3",
   "language": "python",
   "name": "python3"
  },
  "language_info": {
   "codemirror_mode": {
    "name": "ipython",
    "version": 3
   },
   "file_extension": ".py",
   "mimetype": "text/x-python",
   "name": "python",
   "nbconvert_exporter": "python",
   "pygments_lexer": "ipython3",
   "version": "3.6.3"
  }
 },
 "nbformat": 4,
 "nbformat_minor": 2
}
